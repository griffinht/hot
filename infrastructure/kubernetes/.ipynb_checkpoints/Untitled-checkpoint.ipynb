{
 "cells": [
  {
   "cell_type": "code",
   "execution_count": 1,
   "id": "c576fb36",
   "metadata": {},
   "outputs": [
    {
     "name": "stdout",
     "output_type": "stream",
     "text": [
      "name: kubectl\n",
      "version: 1.28.1\n",
      "outputs:\n",
      "+ out: everything\n",
      "systems: x86_64-linux\n",
      "dependencies: \n",
      "location: nongnu/packages/k8s.scm:80:2\n",
      "homepage: https://github.com/kubernetes/kubectl\n",
      "license: ASL 2.0\n",
      "synopsis: Kubernetes command line tool  \n",
      "description: kubectl allows you to run commands against Kubernetes clusters.\n",
      "+ You can use kubectl to deploy applications, inspect and manage cluster\n",
      "+ resources, and view logs.\n",
      "relevance: 34\n",
      "\n"
     ]
    }
   ],
   "source": [
    "%%sh\n",
    "guix search kubectl"
   ]
  },
  {
   "cell_type": "code",
   "execution_count": null,
   "id": "75a87425",
   "metadata": {},
   "outputs": [],
   "source": [
    "%%sh\n",
    "nix package"
   ]
  }
 ],
 "metadata": {
  "kernelspec": {
   "display_name": "Python 3 (ipykernel)",
   "language": "/gnu/store/1w5v338qk5m8khcazwclprs3znqp6f7f-python-3.10.7/bin/python3",
   "name": "python3"
  },
  "language_info": {
   "codemirror_mode": {
    "name": "ipython",
    "version": 3
   },
   "file_extension": ".py",
   "mimetype": "text/x-python",
   "name": "python",
   "nbconvert_exporter": "python",
   "pygments_lexer": "ipython3",
   "version": "3.10.7"
  }
 },
 "nbformat": 4,
 "nbformat_minor": 5
}
