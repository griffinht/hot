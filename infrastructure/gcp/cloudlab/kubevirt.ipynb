{
 "cells": [
  {
   "cell_type": "code",
   "execution_count": 4,
   "metadata": {},
   "outputs": [
    {
     "name": "stdout",
     "output_type": "stream",
     "text": [
      "NAME        LOCATION  MASTER_VERSION      MASTER_IP      MACHINE_TYPE  NODE_VERSION        NUM_NODES  STATUS\n",
      "my-cluster  us-east1  1.29.4-gke.1043004  35.227.21.72   e2-small      1.29.4-gke.1043004             RUNNING\n",
      "virt        us-east1  1.29.4-gke.1043004  34.148.28.218  e2-small      1.29.4-gke.1043004             RUNNING\n"
     ]
    }
   ],
   "source": [
    "%%sh\n",
    "gcloud container clusters list"
   ]
  },
  {
   "cell_type": "code",
   "execution_count": 5,
   "metadata": {},
   "outputs": [
    {
     "name": "stdout",
     "output_type": "stream",
     "text": [
      "To log in to a Kubernetes cluster named virt in the us-east1 region using Google Cloud SDK, you can follow these steps:\n",
      "\n",
      "1. Open your terminal or command prompt.\n",
      "\n",
      "2. Run the following command to set the context for the cluster:\n",
      "```\n",
      "gcloud container clusters get-credentials virt --zone=us-east1\n",
      "```\n",
      "This command retrieves cluster credentials and merges them into your Kubernetes configuration file.\n",
      "\n",
      "3. You should now be logged in to the Kubernetes cluster named virt in the us-east1 region. You can verify this by running the following command:\n",
      "```\n",
      "kubectl get nodes\n",
      "```\n",
      "This command will list all the nodes in the cluster.\n",
      "\n",
      "You are now logged in to the Kubernetes cluster named virt in the us-east1 region using Google Cloud SDK.\n"
     ]
    }
   ],
   "source": [
    "%%sh\n",
    "echo 'gcloud log in to kubernetes cluster called virt at location us-east1' | aichat"
   ]
  },
  {
   "cell_type": "code",
   "execution_count": 6,
   "metadata": {},
   "outputs": [
    {
     "name": "stderr",
     "output_type": "stream",
     "text": [
      "Fetching cluster endpoint and auth data.\n",
      "kubeconfig entry generated for virt.\n"
     ]
    }
   ],
   "source": [
    "%%sh\n",
    "gcloud container clusters get-credentials virt --zone=us-east1"
   ]
  },
  {
   "cell_type": "code",
   "execution_count": 15,
   "metadata": {},
   "outputs": [
    {
     "name": "stdout",
     "output_type": "stream",
     "text": [
      "\u001b[0;32mKubernetes control plane\u001b[0m is running at \u001b[0;33mhttps://34.148.28.218\u001b[0m\n",
      "\u001b[0;32mGLBCDefaultBackend\u001b[0m is running at \u001b[0;33mhttps://34.148.28.218/api/v1/namespaces/kube-system/services/default-http-backend:http/proxy\u001b[0m\n",
      "\u001b[0;32mKubeDNS\u001b[0m is running at \u001b[0;33mhttps://34.148.28.218/api/v1/namespaces/kube-system/services/kube-dns:dns/proxy\u001b[0m\n",
      "\u001b[0;32mMetrics-server\u001b[0m is running at \u001b[0;33mhttps://34.148.28.218/api/v1/namespaces/kube-system/services/https:metrics-server:/proxy\u001b[0m\n",
      "\n",
      "To further debug and diagnose cluster problems, use 'kubectl cluster-info dump'.\n"
     ]
    }
   ],
   "source": [
    "%%sh\n",
    "kubectl cluster-info"
   ]
  },
  {
   "cell_type": "markdown",
   "metadata": {},
   "source": [
    "## Deploy KubeVirt\n",
    "\n",
    "https://kubevirt.io/quickstart_cloud/"
   ]
  },
  {
   "cell_type": "code",
   "execution_count": 19,
   "metadata": {},
   "outputs": [
    {
     "name": "stdout",
     "output_type": "stream",
     "text": [
      "v1.2.2\n",
      "namespace/kubevirt created\n",
      "customresourcedefinition.apiextensions.k8s.io/kubevirts.kubevirt.io created\n",
      "priorityclass.scheduling.k8s.io/kubevirt-cluster-critical created\n",
      "clusterrole.rbac.authorization.k8s.io/kubevirt.io:operator created\n",
      "serviceaccount/kubevirt-operator created\n",
      "role.rbac.authorization.k8s.io/kubevirt-operator created\n",
      "rolebinding.rbac.authorization.k8s.io/kubevirt-operator-rolebinding created\n",
      "clusterrole.rbac.authorization.k8s.io/kubevirt-operator created\n",
      "clusterrolebinding.rbac.authorization.k8s.io/kubevirt-operator created\n"
     ]
    },
    {
     "name": "stderr",
     "output_type": "stream",
     "text": [
      "Warning: autopilot-default-resources-mutator:Autopilot updated Deployment kubevirt/virt-operator: adjusted 'cpu' resource to meet requirements for containers [virt-operator] (see http://g.co/gke/autopilot-defaults).\n"
     ]
    },
    {
     "name": "stdout",
     "output_type": "stream",
     "text": [
      "deployment.apps/virt-operator created\n"
     ]
    }
   ],
   "source": [
    "%%sh\n",
    "export VERSION=$(curl -s https://storage.googleapis.com/kubevirt-prow/release/kubevirt/kubevirt/stable.txt)\n",
    "echo $VERSION\n",
    "kubectl create -f https://github.com/kubevirt/kubevirt/releases/download/${VERSION}/kubevirt-operator.yaml"
   ]
  },
  {
   "cell_type": "code",
   "execution_count": 21,
   "metadata": {},
   "outputs": [
    {
     "name": "stdout",
     "output_type": "stream",
     "text": [
      "v1.2.2\n",
      "kubevirt.kubevirt.io/kubevirt created\n"
     ]
    }
   ],
   "source": [
    "%%sh\n",
    "export VERSION=$(curl -s https://storage.googleapis.com/kubevirt-prow/release/kubevirt/kubevirt/stable.txt)\n",
    "echo $VERSION\n",
    "kubectl create -f https://github.com/kubevirt/kubevirt/releases/download/${VERSION}/kubevirt-cr.yaml"
   ]
  },
  {
   "cell_type": "markdown",
   "metadata": {},
   "source": [
    "## Verify Components"
   ]
  },
  {
   "cell_type": "code",
   "execution_count": 23,
   "metadata": {},
   "outputs": [],
   "source": [
    "%%sh\n",
    "kubectl get kubevirt.kubevirt.io/kubevirt -n kubevirt -o=jsonpath=\"{.status.phase}\""
   ]
  },
  {
   "cell_type": "code",
   "execution_count": 24,
   "metadata": {},
   "outputs": [
    {
     "name": "stdout",
     "output_type": "stream",
     "text": [
      "NAME                                 READY   STATUS    RESTARTS   AGE\n",
      "pod/virt-operator-5c58df76cc-glctb   0/1     Pending   0          106s\n",
      "pod/virt-operator-5c58df76cc-j4xx8   0/1     Pending   0          106s\n",
      "\n",
      "NAME                            READY   UP-TO-DATE   AVAILABLE   AGE\n",
      "deployment.apps/virt-operator   0/2     2            0           107s\n",
      "\n",
      "NAME                                       DESIRED   CURRENT   READY   AGE\n",
      "replicaset.apps/virt-operator-5c58df76cc   2         2         0       107s\n",
      "\n",
      "NAME                            AGE   PHASE\n",
      "kubevirt.kubevirt.io/kubevirt   38s   \n"
     ]
    }
   ],
   "source": [
    "%%sh\n",
    "kubectl get all -n kubevirt"
   ]
  },
  {
   "cell_type": "markdown",
   "metadata": {},
   "source": [
    "## Install tooling (`virtctl`)"
   ]
  },
  {
   "cell_type": "code",
   "execution_count": 25,
   "metadata": {},
   "outputs": [
    {
     "name": "stderr",
     "output_type": "stream",
     "text": [
      "this path will be fetched (8.89 MiB download, 48.33 MiB unpacked):\n",
      "  /nix/store/jsk47l95pxskxpayzbi74l259zzai6bl-kubevirt-1.2.2\n",
      "copying path '/nix/store/jsk47l95pxskxpayzbi74l259zzai6bl-kubevirt-1.2.2' from 'https://cache.nixos.org'...\n"
     ]
    }
   ],
   "source": [
    "%%sh\n",
    "nix profile install nixpkgs#kubevirt"
   ]
  },
  {
   "cell_type": "code",
   "execution_count": 30,
   "metadata": {},
   "outputs": [
    {
     "name": "stdout",
     "output_type": "stream",
     "text": [
      "Available Commands:\n",
      "  addvolume         add a volume to a running VM\n",
      "  adm               Administrate KubeVirt configuration.\n",
      "  completion        Generate the autocompletion script for the specified shell\n",
      "  console           Connect to a console of a virtual machine instance.\n",
      "  create            Create a manifest for the specified Kind.\n",
      "  credentials       Manipulate credentials on a virtual machine.\n",
      "  expand            Return the VirtualMachine object with expanded instancetype and preference.\n",
      "  expose            Expose a virtual machine instance, virtual machine, or virtual machine instance replica set as a new service.\n",
      "  fslist            Return full list of filesystems available on the guest machine.\n",
      "  guestfs           Start a shell into the libguestfs pod\n",
      "  guestosinfo       Return guest agent info about operating system.\n",
      "  help              Help about any command\n",
      "  image-upload      Upload a VM image to a DataVolume/PersistentVolumeClaim.\n",
      "  memory-dump       Dump the memory of a running VM to a pvc\n",
      "  migrate           Migrate a virtual machine.\n",
      "  migrate-cancel    Cancel migration of a virtual machine.\n",
      "  pause             Pause a virtual machine\n",
      "  permitted-devices List the permitted devices for vmis.\n",
      "  port-forward      Forward local ports to a virtualmachine or virtualmachineinstance.\n",
      "  removevolume      remove a volume from a running VM\n",
      "  restart           Restart a virtual machine.\n",
      "  scp               SCP files from/to a virtual machine instance.\n",
      "  soft-reboot       Soft reboot a virtual machine instance\n",
      "  ssh               Open a SSH connection to a virtual machine instance.\n",
      "  start             Start a virtual machine.\n",
      "  stop              Stop a virtual machine.\n",
      "  unpause           Unpause a virtual machine\n",
      "  usbredir          Redirect a usb device to a virtual machine instance.\n",
      "  userlist          Return full list of logged in users on the guest machine.\n",
      "  version           Print the client and server version information.\n",
      "  vmexport          Export a VM volume.\n",
      "  vnc               Open a vnc connection to a virtual machine instance.\n",
      "\n",
      "Use \"virtctl <command> --help\" for more information about a given command.\n",
      "Use \"virtctl options\" for a list of global command-line options (applies to all commands).\n"
     ]
    }
   ],
   "source": [
    "%%sh\n",
    "virtctl "
   ]
  }
 ],
 "metadata": {
  "kernelspec": {
   "display_name": "Python 3 (ipykernel)",
   "language": "/gnu/store/1w5v338qk5m8khcazwclprs3znqp6f7f-python-3.10.7/bin/python3",
   "name": "python3"
  },
  "language_info": {
   "codemirror_mode": {
    "name": "ipython",
    "version": 3
   },
   "file_extension": ".py",
   "mimetype": "text/x-python",
   "name": "python",
   "nbconvert_exporter": "python",
   "pygments_lexer": "ipython3",
   "version": "3.10.7"
  }
 },
 "nbformat": 4,
 "nbformat_minor": 2
}
