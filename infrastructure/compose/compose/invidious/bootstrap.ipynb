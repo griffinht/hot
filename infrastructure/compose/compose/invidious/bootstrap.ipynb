{
 "cells": [
  {
   "cell_type": "code",
   "execution_count": 2,
   "metadata": {},
   "outputs": [
    {
     "name": "stdout",
     "output_type": "stream",
     "text": [
      "/home/griffin/git/hot/infrastructure/compose/compose/invidious\n"
     ]
    }
   ],
   "source": [
    "%%sh\n",
    "pwd"
   ]
  },
  {
   "cell_type": "code",
   "execution_count": 3,
   "metadata": {},
   "outputs": [
    {
     "name": "stderr",
     "output_type": "stream",
     "text": [
      "Cloning into 'invidious'...\n"
     ]
    }
   ],
   "source": [
    "%%sh\n",
    "git clone https://github.com/iv-org/invidious.git"
   ]
  },
  {
   "cell_type": "code",
   "execution_count": 8,
   "metadata": {},
   "outputs": [
    {
     "name": "stdout",
     "output_type": "stream",
     "text": [
      "annotations.sql\n",
      "channels.sql\n"
     ]
    },
    {
     "name": "stdout",
     "output_type": "stream",
     "text": [
      "channel_videos.sql\n",
      "nonces.sql\n",
      "playlists.sql\n",
      "playlist_videos.sql\n",
      "session_ids.sql\n",
      "users.sql\n",
      "videos.sql\n"
     ]
    }
   ],
   "source": [
    "%%sh\n",
    "ls invidious/config/sql | xargs -I {} echo {}"
   ]
  },
  {
   "cell_type": "code",
   "execution_count": 12,
   "metadata": {},
   "outputs": [
    {
     "name": "stdout",
     "output_type": "stream",
     "text": [
      "To get the name of the current database in PostgreSQL, you can use the following SQL query:\n",
      "\n",
      "```sql\n",
      "SELECT current_database();\n",
      "```\n",
      "\n",
      "This query will return the name of the current database that you are connected to in your PostgreSQL server.\n"
     ]
    }
   ],
   "source": [
    "%%sh\n",
    "echo 'sql get database name in postgres' | aichat"
   ]
  },
  {
   "cell_type": "code",
   "execution_count": 13,
   "metadata": {},
   "outputs": [
    {
     "name": "stdout",
     "output_type": "stream",
     "text": [
      " current_database \n",
      "------------------\n",
      " miniflux\n",
      "(1 row)\n",
      "\n"
     ]
    }
   ],
   "source": [
    "%%sh\n",
    "echo 'select current_database();' | psql"
   ]
  },
  {
   "cell_type": "code",
   "execution_count": 15,
   "metadata": {},
   "outputs": [
    {
     "name": "stderr",
     "output_type": "stream",
     "text": [
      "ERROR:  permission denied for schema public\n",
      "LINE 1: CREATE TABLE IF NOT EXISTS public.annotations\n",
      "                                   ^\n",
      "ERROR:  relation \"public.annotations\" does not exist\n",
      "ERROR:  permission denied for schema public\n",
      "LINE 1: CREATE TABLE IF NOT EXISTS public.channels\n",
      "                                   ^\n",
      "ERROR:  relation \"public.channels\" does not exist\n",
      "ERROR:  relation \"public.channels\" does not exist\n",
      "ERROR:  permission denied for schema public\n",
      "LINE 1: CREATE TABLE IF NOT EXISTS public.channel_videos\n",
      "                                   ^\n",
      "ERROR:  relation \"public.channel_videos\" does not exist\n",
      "ERROR:  relation \"public.channel_videos\" does not exist\n",
      "ERROR:  permission denied for schema public\n",
      "LINE 1: CREATE TABLE IF NOT EXISTS public.nonces\n",
      "                                   ^\n",
      "ERROR:  relation \"public.nonces\" does not exist\n",
      "ERROR:  relation \"public.nonces\" does not exist\n",
      "ERROR:  permission denied for schema public\n",
      "ERROR:  permission denied for schema public\n",
      "LINE 1: CREATE TABLE IF NOT EXISTS public.playlists\n",
      "                                   ^\n",
      "ERROR:  relation \"public.playlists\" does not exist\n",
      "ERROR:  permission denied for schema public\n",
      "LINE 1: CREATE TABLE IF NOT EXISTS public.playlist_videos\n",
      "                                   ^\n",
      "ERROR:  relation \"public.playlist_videos\" does not exist\n",
      "ERROR:  permission denied for schema public\n",
      "LINE 1: CREATE TABLE IF NOT EXISTS public.session_ids\n",
      "                                   ^\n",
      "ERROR:  relation \"public.session_ids\" does not exist\n",
      "ERROR:  relation \"public.session_ids\" does not exist\n",
      "ERROR:  permission denied for schema public\n",
      "LINE 1: CREATE TABLE IF NOT EXISTS public.users\n",
      "                                   ^\n",
      "ERROR:  relation \"public.users\" does not exist\n",
      "ERROR:  relation \"public.users\" does not exist\n",
      "ERROR:  permission denied for schema public\n",
      "LINE 1: CREATE UNLOGGED TABLE IF NOT EXISTS public.videos\n",
      "                                            ^\n",
      "ERROR:  relation \"public.videos\" does not exist\n",
      "ERROR:  relation \"public.videos\" does not exist\n"
     ]
    }
   ],
   "source": [
    "%%sh\n",
    "ls invidious/config/sql | xargs -I {} sh -c 'psql < invidious/config/sql/{}'"
   ]
  },
  {
   "cell_type": "code",
   "execution_count": null,
   "metadata": {},
   "outputs": [
    {
     "name": "stdout",
     "output_type": "stream",
     "text": [
      "To quit `psql` on the first error, you can use the following command-line option when starting `psql`:\n",
      "\n",
      "```\n",
      "psql --set ON_ERROR_STOP=on\n",
      "```\n",
      "\n",
      "This will make `psql` stop processing queries and exit immediately upon encountering an error. You can also set this parameter in your `.psqlrc` file by adding the following line:\n",
      "\n",
      "```\n",
      "\\set ON_ERROR_STOP on\n",
      "```\n",
      "\n",
      "This will ensure that `psql` always quits on the first error when starting a new session.\n"
     ]
    }
   ],
   "source": [
    "%%sh\n",
    "echo 'psql quit on first error' | aichat"
   ]
  },
  {
   "cell_type": "code",
   "execution_count": 24,
   "metadata": {},
   "outputs": [
    {
     "name": "stderr",
     "output_type": "stream",
     "text": [
      "ERROR:  permission denied for schema public\n",
      "LINE 1: CREATE TABLE IF NOT EXISTS public.annotations\n",
      "                                   ^\n"
     ]
    },
    {
     "ename": "CalledProcessError",
     "evalue": "Command 'b'cat invidious/config/sql/*.sql | psql --set ON_ERROR_STOP=on\\n'' returned non-zero exit status 3.",
     "output_type": "error",
     "traceback": [
      "\u001b[0;31m---------------------------------------------------------------------------\u001b[0m",
      "\u001b[0;31mCalledProcessError\u001b[0m                        Traceback (most recent call last)",
      "Cell \u001b[0;32mIn [24], line 1\u001b[0m\n\u001b[0;32m----> 1\u001b[0m \u001b[43mget_ipython\u001b[49m\u001b[43m(\u001b[49m\u001b[43m)\u001b[49m\u001b[38;5;241;43m.\u001b[39;49m\u001b[43mrun_cell_magic\u001b[49m\u001b[43m(\u001b[49m\u001b[38;5;124;43m'\u001b[39;49m\u001b[38;5;124;43msh\u001b[39;49m\u001b[38;5;124;43m'\u001b[39;49m\u001b[43m,\u001b[49m\u001b[43m \u001b[49m\u001b[38;5;124;43m'\u001b[39;49m\u001b[38;5;124;43m'\u001b[39;49m\u001b[43m,\u001b[49m\u001b[43m \u001b[49m\u001b[38;5;124;43m'\u001b[39;49m\u001b[38;5;124;43mcat invidious/config/sql/*.sql | psql --set ON_ERROR_STOP=on\u001b[39;49m\u001b[38;5;130;43;01m\\n\u001b[39;49;00m\u001b[38;5;124;43m'\u001b[39;49m\u001b[43m)\u001b[49m\n",
      "File \u001b[0;32m/gnu/store/2zfg9hpglvzcb6m674lsm04yj273cjlg-python-ipython-8.5.0/lib/python3.10/site-packages/IPython/core/interactiveshell.py:2362\u001b[0m, in \u001b[0;36mInteractiveShell.run_cell_magic\u001b[0;34m(self, magic_name, line, cell)\u001b[0m\n\u001b[1;32m   2360\u001b[0m \u001b[38;5;28;01mwith\u001b[39;00m \u001b[38;5;28mself\u001b[39m\u001b[38;5;241m.\u001b[39mbuiltin_trap:\n\u001b[1;32m   2361\u001b[0m     args \u001b[38;5;241m=\u001b[39m (magic_arg_s, cell)\n\u001b[0;32m-> 2362\u001b[0m     result \u001b[38;5;241m=\u001b[39m \u001b[43mfn\u001b[49m\u001b[43m(\u001b[49m\u001b[38;5;241;43m*\u001b[39;49m\u001b[43margs\u001b[49m\u001b[43m,\u001b[49m\u001b[43m \u001b[49m\u001b[38;5;241;43m*\u001b[39;49m\u001b[38;5;241;43m*\u001b[39;49m\u001b[43mkwargs\u001b[49m\u001b[43m)\u001b[49m\n\u001b[1;32m   2363\u001b[0m \u001b[38;5;28;01mreturn\u001b[39;00m result\n",
      "File \u001b[0;32m/gnu/store/2zfg9hpglvzcb6m674lsm04yj273cjlg-python-ipython-8.5.0/lib/python3.10/site-packages/IPython/core/magics/script.py:153\u001b[0m, in \u001b[0;36mScriptMagics._make_script_magic.<locals>.named_script_magic\u001b[0;34m(line, cell)\u001b[0m\n\u001b[1;32m    151\u001b[0m \u001b[38;5;28;01melse\u001b[39;00m:\n\u001b[1;32m    152\u001b[0m     line \u001b[38;5;241m=\u001b[39m script\n\u001b[0;32m--> 153\u001b[0m \u001b[38;5;28;01mreturn\u001b[39;00m \u001b[38;5;28;43mself\u001b[39;49m\u001b[38;5;241;43m.\u001b[39;49m\u001b[43mshebang\u001b[49m\u001b[43m(\u001b[49m\u001b[43mline\u001b[49m\u001b[43m,\u001b[49m\u001b[43m \u001b[49m\u001b[43mcell\u001b[49m\u001b[43m)\u001b[49m\n",
      "File \u001b[0;32m/gnu/store/2zfg9hpglvzcb6m674lsm04yj273cjlg-python-ipython-8.5.0/lib/python3.10/site-packages/IPython/core/magics/script.py:305\u001b[0m, in \u001b[0;36mScriptMagics.shebang\u001b[0;34m(self, line, cell)\u001b[0m\n\u001b[1;32m    300\u001b[0m \u001b[38;5;28;01mif\u001b[39;00m args\u001b[38;5;241m.\u001b[39mraise_error \u001b[38;5;129;01mand\u001b[39;00m p\u001b[38;5;241m.\u001b[39mreturncode \u001b[38;5;241m!=\u001b[39m \u001b[38;5;241m0\u001b[39m:\n\u001b[1;32m    301\u001b[0m     \u001b[38;5;66;03m# If we get here and p.returncode is still None, we must have\u001b[39;00m\n\u001b[1;32m    302\u001b[0m     \u001b[38;5;66;03m# killed it but not yet seen its return code. We don't wait for it,\u001b[39;00m\n\u001b[1;32m    303\u001b[0m     \u001b[38;5;66;03m# in case it's stuck in uninterruptible sleep. -9 = SIGKILL\u001b[39;00m\n\u001b[1;32m    304\u001b[0m     rc \u001b[38;5;241m=\u001b[39m p\u001b[38;5;241m.\u001b[39mreturncode \u001b[38;5;129;01mor\u001b[39;00m \u001b[38;5;241m-\u001b[39m\u001b[38;5;241m9\u001b[39m\n\u001b[0;32m--> 305\u001b[0m     \u001b[38;5;28;01mraise\u001b[39;00m CalledProcessError(rc, cell)\n",
      "\u001b[0;31mCalledProcessError\u001b[0m: Command 'b'cat invidious/config/sql/*.sql | psql --set ON_ERROR_STOP=on\\n'' returned non-zero exit status 3."
     ]
    }
   ],
   "source": [
    "%%sh\n",
    "cat invidious/config/sql/*.sql | psql --set ON_ERROR_STOP=on"
   ]
  },
  {
   "cell_type": "code",
   "execution_count": null,
   "metadata": {},
   "outputs": [],
   "source": [
    "%%sh\n",
    "rm -rf invidiuos"
   ]
  }
 ],
 "metadata": {
  "kernelspec": {
   "display_name": "Python 3 (ipykernel)",
   "language": "python",
   "name": "python3"
  },
  "language_info": {
   "codemirror_mode": {
    "name": "ipython",
    "version": 3
   },
   "file_extension": ".py",
   "mimetype": "text/x-python",
   "name": "python",
   "nbconvert_exporter": "python",
   "pygments_lexer": "ipython3",
   "version": "3.10.7"
  }
 },
 "nbformat": 4,
 "nbformat_minor": 2
}
